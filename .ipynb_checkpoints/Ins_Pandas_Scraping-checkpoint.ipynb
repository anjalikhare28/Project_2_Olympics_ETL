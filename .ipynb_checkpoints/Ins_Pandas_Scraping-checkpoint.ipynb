{
 "cells": [
  {
   "cell_type": "markdown",
   "metadata": {
    "slideshow": {
     "slide_type": "slide"
    }
   },
   "source": [
    "# Scraping with Pandas"
   ]
  },
  {
   "cell_type": "code",
   "execution_count": 1,
   "metadata": {
    "slideshow": {
     "slide_type": "slide"
    }
   },
   "outputs": [],
   "source": [
    "import pandas as pd"
   ]
  },
  {
   "cell_type": "markdown",
   "metadata": {
    "slideshow": {
     "slide_type": "subslide"
    }
   },
   "source": [
    "We can use the `read_html` function in Pandas to automatically scrape any tabular data from a page."
   ]
  },
  {
   "cell_type": "code",
   "execution_count": 2,
   "metadata": {
    "slideshow": {
     "slide_type": "fragment"
    }
   },
   "outputs": [],
   "source": [
    "url = 'https://olympics.com/tokyo-2020/olympic-games/en/results/all-sports/medal-standings.htm'"
   ]
  },
  {
   "cell_type": "code",
   "execution_count": 3,
   "metadata": {
    "slideshow": {
     "slide_type": "fragment"
    }
   },
   "outputs": [
    {
     "data": {
      "text/plain": [
       "[    Rank                    Team/NOC  Unnamed: 2  Unnamed: 3  Unnamed: 4  \\\n",
       " 0      1  People's Republic of China          19          10          11   \n",
       " 1      2                       Japan          17           4           7   \n",
       " 2      3    United States of America          14          17          11   \n",
       " 3      4                         ROC          10          14          10   \n",
       " 4      5                   Australia           9           2          11   \n",
       " ..   ...                         ...         ...         ...         ...   \n",
       " 65    63                     Finland           0           0           1   \n",
       " 66    63                      Israel           0           0           1   \n",
       " 67    63                      Kuwait           0           0           1   \n",
       " 68    63                    Portugal           0           0           1   \n",
       " 69    63                  San Marino           0           0           1   \n",
       " \n",
       "     Total  RankbyTotal NOCCode  \n",
       " 0      40            2     CHN  \n",
       " 1      28            4     JPN  \n",
       " 2      42            1     USA  \n",
       " 3      34            3     ROC  \n",
       " 4      22            6     AUS  \n",
       " ..    ...          ...     ...  \n",
       " 65      1           47     FIN  \n",
       " 66      1           47     ISR  \n",
       " 67      1           47     KUW  \n",
       " 68      1           47     POR  \n",
       " 69      1           47     SMR  \n",
       " \n",
       " [70 rows x 8 columns],\n",
       "                 Team/NOC  Unnamed: 1  Unnamed: 2  Unnamed: 3  Total NOCCode\n",
       " 0                  China           6           4           5     15     CHN\n",
       " 1                  Japan           8           3           1     12     JPN\n",
       " 2          United States           6           3           3     12     USA\n",
       " 3                    ROC           5           4           6     15     ROC\n",
       " 4              Australia           2           2           6     10     AUS\n",
       " 5          Great Britain           5           6           3     14     GBR\n",
       " 6      Republic of Korea           2           1           6      9     KOR\n",
       " 7            Netherlands           2           4           0      6     NED\n",
       " 8                 France           2           0           2      4     FRA\n",
       " 9                Germany           0           3           4      7     GER\n",
       " 10           New Zealand           1           1           2      4     NZL\n",
       " 11        Czech Republic           3           2           1      6     CZE\n",
       " 12               Croatia           2           1           2      5     CRO\n",
       " 13                 Italy           1           5           5     11     ITA\n",
       " 14               Hungary           2           1           2      5     HUN\n",
       " 15              Slovenia           2           0           1      3     SLO\n",
       " 16                Brazil           1           1           2      4     BRA\n",
       " 17           Switzerland           0           1           1      2     SUI\n",
       " 18               Georgia           1           3           0      4     GEO\n",
       " 19               Romania           0           2           0      2     ROU\n",
       " 20        Chinese Taipei           0           2           0      2     TPE\n",
       " 21      Hong Kong, China           1           0           0      1     HKG\n",
       " 22               Austria           0           0           1      1     AUT\n",
       " 23                Serbia           0           1           1      2     SRB\n",
       " 24                Norway           1           1           0      2     NOR\n",
       " 25              Slovakia           0           1           0      1     SVK\n",
       " 26               Tunisia           1           1           0      2     TUN\n",
       " 27               Ireland           1           0           0      1     IRL\n",
       " 28            Uzbekistan           1           0           1      2     UZB\n",
       " 29               Ecuador           1           0           0      1     ECU\n",
       " 30              Ethiopia           1           0           0      1     ETH\n",
       " 31                  Fiji           1           0           0      1     FIJ\n",
       " 32                Greece           1           0           0      1     GRE\n",
       " 33  Islamic Rep. of Iran           1           0           0      1     IRI\n",
       " 34                Latvia           1           0           0      1     LAT\n",
       " 35              Colombia           0           1           1      2     COL\n",
       " 36                 Spain           0           0           1      1     ESP\n",
       " 37             Indonesia           0           1           1      2     INA\n",
       " 38              Mongolia           0           1           1      2     MGL\n",
       " 39               Belgium           0           1           1      2     BEL\n",
       " 40                  Cuba           0           0           1      1     CUB\n",
       " 41               Denmark           0           1           1      2     DEN\n",
       " 42                Uganda           0           1           1      2     UGA\n",
       " 43                Jordan           0           1           0      1     JOR\n",
       " 44       North Macedonia           0           1           0      1     MKD\n",
       " 45             Venezuela           0           1           0      1     VEN\n",
       " 46               Ukraine           0           0           2      2     UKR\n",
       " 47            Kazakhstan           0           0           2      2     KAZ\n",
       " 48                 Egypt           0           0           1      1     EGY\n",
       " 49                Turkey           0           0           1      1     TUR\n",
       " 50             Argentina           0           0           1      1     ARG\n",
       " 51               Finland           0           0           1      1     FIN\n",
       " 52                Kuwait           0           0           1      1     KUW\n",
       " 53              Portugal           0           0           1      1     POR,\n",
       "              Team/NOC  Unnamed: 1  Unnamed: 2  Unnamed: 3  Total NOCCode\n",
       " 0               China          10           4           6     20     CHN\n",
       " 1               Japan           8           1           5     14     JPN\n",
       " 2       United States           8          11           8     27     USA\n",
       " 3                 ROC           5           9           3     17     ROC\n",
       " 4           Australia           7           0           5     12     AUS\n",
       " 5       Great Britain           1           3           4      8     GBR\n",
       " 6   Republic of Korea           2           3           0      5     KOR\n",
       " 7         Netherlands           1           2           5      8     NED\n",
       " 8              France           1           5           3      9     FRA\n",
       " 9             Germany           1           0           5      6     GER\n",
       " 10             Canada           3           3           5     11     CAN\n",
       " 11        New Zealand           2           2           0      4     NZL\n",
       " 12            Croatia           1           0           0      1     CRO\n",
       " 13              Italy           1           2           6      9     ITA\n",
       " 14           Slovenia           0           1           0      1     SLO\n",
       " 15             Kosovo           2           0           0      2     KOS\n",
       " 16             Brazil           0           2           1      3     BRA\n",
       " 17        Switzerland           1           2           2      5     SUI\n",
       " 18            Romania           1           1           0      2     ROU\n",
       " 19     Chinese Taipei           1           0           2      3     TPE\n",
       " 20   Hong Kong, China           0           2           0      2     HKG\n",
       " 21       South Africa           1           2           0      3     RSA\n",
       " 22            Austria           1           1           1      3     AUT\n",
       " 23             Serbia           1           0           1      2     SRB\n",
       " 24           Slovakia           1           0           0      1     SVK\n",
       " 25            Estonia           1           0           1      2     EST\n",
       " 26            Ireland           0           0           1      1     IRL\n",
       " 27            Bermuda           1           0           0      1     BER\n",
       " 28        Philippines           1           0           0      1     PHI\n",
       " 29           Thailand           1           0           0      1     THA\n",
       " 30           Colombia           0           1           0      1     COL\n",
       " 31              Spain           0           2           0      2     ESP\n",
       " 32          Indonesia           0           0           1      1     INA\n",
       " 33           Mongolia           0           0           1      1     MGL\n",
       " 34               Cuba           0           1           0      1     CUB\n",
       " 35           Bulgaria           0           1           0      1     BUL\n",
       " 36              India           0           1           0      1     IND\n",
       " 37             Poland           0           1           0      1     POL\n",
       " 38       Turkmenistan           0           1           0      1     TKM\n",
       " 39            Ukraine           0           0           1      1     UKR\n",
       " 40         Kazakhstan           0           0           1      1     KAZ\n",
       " 41              Egypt           0           0           1      1     EGY\n",
       " 42             Mexico           0           0           1      1     MEX\n",
       " 43             Turkey           0           0           1      1     TUR\n",
       " 44         Azerbaijan           0           0           1      1     AZE\n",
       " 45      Côte d'Ivoire           0           0           1      1     CIV\n",
       " 46             Israel           0           0           1      1     ISR\n",
       " 47         San Marino           0           0           1      1     SMR,\n",
       "              Team/NOC  Unnamed: 1  Unnamed: 2  Unnamed: 3  Total NOCCode\n",
       " 0               China           3           2           0      5     CHN\n",
       " 1               Japan           1           0           1      2     JPN\n",
       " 2       United States           0           2           0      2     USA\n",
       " 3                 ROC           0           1           1      2     ROC\n",
       " 4       Great Britain           1           0           0      1     GBR\n",
       " 5   Republic of Korea           1           0           0      1     KOR\n",
       " 6         Netherlands           0           1           0      1     NED\n",
       " 7              France           0           0           1      1     FRA\n",
       " 8      Chinese Taipei           0           0           1      1     TPE\n",
       " 9             Ukraine           0           0           1      1     UKR\n",
       " 10             Mexico           0           0           1      1     MEX,\n",
       "         Team/NOC  Unnamed: 1  Unnamed: 2  Unnamed: 3  Total NOCCode\n",
       " 0  United States           0           1           0      1     USA\n",
       " 1  Great Britain           0           0           2      2     GBR\n",
       " 2        Germany           2           1           0      3     GER]"
      ]
     },
     "execution_count": 3,
     "metadata": {},
     "output_type": "execute_result"
    }
   ],
   "source": [
    "tables = pd.read_html(url, flavor='html5lib')\n",
    "tables"
   ]
  },
  {
   "cell_type": "code",
   "execution_count": 4,
   "metadata": {},
   "outputs": [
    {
     "data": {
      "text/plain": [
       "9"
      ]
     },
     "execution_count": 4,
     "metadata": {},
     "output_type": "execute_result"
    }
   ],
   "source": [
    "len(tables"
   ]
  },
  {
   "cell_type": "markdown",
   "metadata": {
    "slideshow": {
     "slide_type": "subslide"
    }
   },
   "source": [
    "#### What we get in return is a list of dataframes for any tabular data that Pandas found."
   ]
  },
  {
   "cell_type": "code",
   "execution_count": 4,
   "metadata": {
    "slideshow": {
     "slide_type": "fragment"
    }
   },
   "outputs": [
    {
     "data": {
      "text/plain": [
       "list"
      ]
     },
     "execution_count": 4,
     "metadata": {},
     "output_type": "execute_result"
    }
   ],
   "source": [
    "type(tables)"
   ]
  },
  {
   "cell_type": "markdown",
   "metadata": {
    "slideshow": {
     "slide_type": "subslide"
    }
   },
   "source": [
    "#### We can slice off any of those dataframes that we want using normal indexing."
   ]
  },
  {
   "cell_type": "code",
   "execution_count": 5,
   "metadata": {
    "slideshow": {
     "slide_type": "fragment"
    }
   },
   "outputs": [
    {
     "data": {
      "text/html": [
       "<div>\n",
       "<style scoped>\n",
       "    .dataframe tbody tr th:only-of-type {\n",
       "        vertical-align: middle;\n",
       "    }\n",
       "\n",
       "    .dataframe tbody tr th {\n",
       "        vertical-align: top;\n",
       "    }\n",
       "\n",
       "    .dataframe thead th {\n",
       "        text-align: right;\n",
       "    }\n",
       "</style>\n",
       "<table border=\"1\" class=\"dataframe\">\n",
       "  <thead>\n",
       "    <tr style=\"text-align: right;\">\n",
       "      <th></th>\n",
       "      <th>Rank</th>\n",
       "      <th>Team/NOC</th>\n",
       "      <th>Unnamed: 2</th>\n",
       "      <th>Unnamed: 3</th>\n",
       "      <th>Unnamed: 4</th>\n",
       "      <th>Total</th>\n",
       "      <th>RankbyTotal</th>\n",
       "      <th>NOCCode</th>\n",
       "    </tr>\n",
       "  </thead>\n",
       "  <tbody>\n",
       "    <tr>\n",
       "      <th>0</th>\n",
       "      <td>1</td>\n",
       "      <td>People's Republic of China</td>\n",
       "      <td>19</td>\n",
       "      <td>10</td>\n",
       "      <td>11</td>\n",
       "      <td>40</td>\n",
       "      <td>2</td>\n",
       "      <td>CHN</td>\n",
       "    </tr>\n",
       "    <tr>\n",
       "      <th>1</th>\n",
       "      <td>2</td>\n",
       "      <td>Japan</td>\n",
       "      <td>17</td>\n",
       "      <td>4</td>\n",
       "      <td>7</td>\n",
       "      <td>28</td>\n",
       "      <td>4</td>\n",
       "      <td>JPN</td>\n",
       "    </tr>\n",
       "    <tr>\n",
       "      <th>2</th>\n",
       "      <td>3</td>\n",
       "      <td>United States of America</td>\n",
       "      <td>14</td>\n",
       "      <td>17</td>\n",
       "      <td>11</td>\n",
       "      <td>42</td>\n",
       "      <td>1</td>\n",
       "      <td>USA</td>\n",
       "    </tr>\n",
       "    <tr>\n",
       "      <th>3</th>\n",
       "      <td>4</td>\n",
       "      <td>ROC</td>\n",
       "      <td>10</td>\n",
       "      <td>14</td>\n",
       "      <td>10</td>\n",
       "      <td>34</td>\n",
       "      <td>3</td>\n",
       "      <td>ROC</td>\n",
       "    </tr>\n",
       "    <tr>\n",
       "      <th>4</th>\n",
       "      <td>5</td>\n",
       "      <td>Australia</td>\n",
       "      <td>9</td>\n",
       "      <td>2</td>\n",
       "      <td>11</td>\n",
       "      <td>22</td>\n",
       "      <td>6</td>\n",
       "      <td>AUS</td>\n",
       "    </tr>\n",
       "  </tbody>\n",
       "</table>\n",
       "</div>"
      ],
      "text/plain": [
       "   Rank                    Team/NOC  Unnamed: 2  Unnamed: 3  Unnamed: 4  \\\n",
       "0     1  People's Republic of China          19          10          11   \n",
       "1     2                       Japan          17           4           7   \n",
       "2     3    United States of America          14          17          11   \n",
       "3     4                         ROC          10          14          10   \n",
       "4     5                   Australia           9           2          11   \n",
       "\n",
       "   Total  RankbyTotal NOCCode  \n",
       "0     40            2     CHN  \n",
       "1     28            4     JPN  \n",
       "2     42            1     USA  \n",
       "3     34            3     ROC  \n",
       "4     22            6     AUS  "
      ]
     },
     "execution_count": 5,
     "metadata": {},
     "output_type": "execute_result"
    }
   ],
   "source": [
    "df = tables[0]\n",
    "df.head()"
   ]
  },
  {
   "cell_type": "markdown",
   "metadata": {
    "slideshow": {
     "slide_type": "subslide"
    }
   },
   "source": [
    "#### Drop all single header rows"
   ]
  },
  {
   "cell_type": "code",
   "execution_count": 14,
   "metadata": {
    "slideshow": {
     "slide_type": "fragment"
    }
   },
   "outputs": [
    {
     "data": {
      "text/html": [
       "<div>\n",
       "<style scoped>\n",
       "    .dataframe tbody tr th:only-of-type {\n",
       "        vertical-align: middle;\n",
       "    }\n",
       "\n",
       "    .dataframe tbody tr th {\n",
       "        vertical-align: top;\n",
       "    }\n",
       "\n",
       "    .dataframe thead th {\n",
       "        text-align: right;\n",
       "    }\n",
       "</style>\n",
       "<table border=\"1\" class=\"dataframe\">\n",
       "  <thead>\n",
       "    <tr style=\"text-align: right;\">\n",
       "      <th></th>\n",
       "      <th>City</th>\n",
       "      <th>Building</th>\n",
       "      <th>Start date</th>\n",
       "      <th>End date</th>\n",
       "      <th>Duration</th>\n",
       "      <th>Ref</th>\n",
       "    </tr>\n",
       "  </thead>\n",
       "  <tbody>\n",
       "    <tr>\n",
       "      <th>0</th>\n",
       "      <td>Philadelphia, Pennsylvania</td>\n",
       "      <td>Independence Hall</td>\n",
       "      <td>July 4, 1776 (convened May 10, 1775, prior to ...</td>\n",
       "      <td>December 12, 1776</td>\n",
       "      <td>5 months and 8 days</td>\n",
       "      <td>[8]</td>\n",
       "    </tr>\n",
       "    <tr>\n",
       "      <th>1</th>\n",
       "      <td>Baltimore, Maryland</td>\n",
       "      <td>Henry Fite House</td>\n",
       "      <td>December 20, 1776</td>\n",
       "      <td>February 27, 1777</td>\n",
       "      <td>2 months and 7 days</td>\n",
       "      <td>[9]</td>\n",
       "    </tr>\n",
       "    <tr>\n",
       "      <th>2</th>\n",
       "      <td>Philadelphia, Pennsylvania</td>\n",
       "      <td>Independence Hall</td>\n",
       "      <td>March 5, 1777</td>\n",
       "      <td>September 18, 1777</td>\n",
       "      <td>6 months and 13 days</td>\n",
       "      <td>[10]</td>\n",
       "    </tr>\n",
       "    <tr>\n",
       "      <th>3</th>\n",
       "      <td>Lancaster, Pennsylvania</td>\n",
       "      <td>Court House</td>\n",
       "      <td>September 27, 1777</td>\n",
       "      <td>September 27, 1777</td>\n",
       "      <td>1 day</td>\n",
       "      <td>[10]</td>\n",
       "    </tr>\n",
       "    <tr>\n",
       "      <th>4</th>\n",
       "      <td>York, Pennsylvania</td>\n",
       "      <td>Court House (now Colonial Court House)</td>\n",
       "      <td>September 30, 1777</td>\n",
       "      <td>June 27, 1778</td>\n",
       "      <td>8 months and 28 days</td>\n",
       "      <td>[10]</td>\n",
       "    </tr>\n",
       "  </tbody>\n",
       "</table>\n",
       "</div>"
      ],
      "text/plain": [
       "                         City                                Building  \\\n",
       "0  Philadelphia, Pennsylvania                       Independence Hall   \n",
       "1         Baltimore, Maryland                        Henry Fite House   \n",
       "2  Philadelphia, Pennsylvania                       Independence Hall   \n",
       "3     Lancaster, Pennsylvania                             Court House   \n",
       "4          York, Pennsylvania  Court House (now Colonial Court House)   \n",
       "\n",
       "                                          Start date            End date  \\\n",
       "0  July 4, 1776 (convened May 10, 1775, prior to ...   December 12, 1776   \n",
       "1                                  December 20, 1776   February 27, 1777   \n",
       "2                                      March 5, 1777  September 18, 1777   \n",
       "3                                 September 27, 1777  September 27, 1777   \n",
       "4                                 September 30, 1777       June 27, 1778   \n",
       "\n",
       "               Duration   Ref  \n",
       "0   5 months and 8 days   [8]  \n",
       "1   2 months and 7 days   [9]  \n",
       "2  6 months and 13 days  [10]  \n",
       "3                 1 day  [10]  \n",
       "4  8 months and 28 days  [10]  "
      ]
     },
     "execution_count": 14,
     "metadata": {},
     "output_type": "execute_result"
    }
   ],
   "source": [
    "df.columns = df.columns.get_level_values(0)\n",
    "df = df.loc[df.Ref.str.startswith(\"[\")]\n",
    "df.head()"
   ]
  },
  {
   "cell_type": "markdown",
   "metadata": {
    "slideshow": {
     "slide_type": "subslide"
    }
   },
   "source": [
    "#### Slipt column values into two separate columns"
   ]
  },
  {
   "cell_type": "code",
   "execution_count": 15,
   "metadata": {
    "scrolled": true,
    "slideshow": {
     "slide_type": "fragment"
    }
   },
   "outputs": [
    {
     "data": {
      "text/html": [
       "<div>\n",
       "<style scoped>\n",
       "    .dataframe tbody tr th:only-of-type {\n",
       "        vertical-align: middle;\n",
       "    }\n",
       "\n",
       "    .dataframe tbody tr th {\n",
       "        vertical-align: top;\n",
       "    }\n",
       "\n",
       "    .dataframe thead th {\n",
       "        text-align: right;\n",
       "    }\n",
       "</style>\n",
       "<table border=\"1\" class=\"dataframe\">\n",
       "  <thead>\n",
       "    <tr style=\"text-align: right;\">\n",
       "      <th></th>\n",
       "      <th>0</th>\n",
       "      <th>1</th>\n",
       "    </tr>\n",
       "  </thead>\n",
       "  <tbody>\n",
       "    <tr>\n",
       "      <th>0</th>\n",
       "      <td>Philadelphia</td>\n",
       "      <td>Pennsylvania</td>\n",
       "    </tr>\n",
       "    <tr>\n",
       "      <th>1</th>\n",
       "      <td>Baltimore</td>\n",
       "      <td>Maryland</td>\n",
       "    </tr>\n",
       "    <tr>\n",
       "      <th>2</th>\n",
       "      <td>Philadelphia</td>\n",
       "      <td>Pennsylvania</td>\n",
       "    </tr>\n",
       "    <tr>\n",
       "      <th>3</th>\n",
       "      <td>Lancaster</td>\n",
       "      <td>Pennsylvania</td>\n",
       "    </tr>\n",
       "    <tr>\n",
       "      <th>4</th>\n",
       "      <td>York</td>\n",
       "      <td>Pennsylvania</td>\n",
       "    </tr>\n",
       "    <tr>\n",
       "      <th>5</th>\n",
       "      <td>Philadelphia</td>\n",
       "      <td>Pennsylvania</td>\n",
       "    </tr>\n",
       "    <tr>\n",
       "      <th>7</th>\n",
       "      <td>Philadelphia</td>\n",
       "      <td>Pennsylvania</td>\n",
       "    </tr>\n",
       "    <tr>\n",
       "      <th>8</th>\n",
       "      <td>Princeton</td>\n",
       "      <td>New Jersey</td>\n",
       "    </tr>\n",
       "    <tr>\n",
       "      <th>9</th>\n",
       "      <td>Annapolis</td>\n",
       "      <td>Maryland</td>\n",
       "    </tr>\n",
       "    <tr>\n",
       "      <th>10</th>\n",
       "      <td>Trenton</td>\n",
       "      <td>New Jersey</td>\n",
       "    </tr>\n",
       "    <tr>\n",
       "      <th>11</th>\n",
       "      <td>New York</td>\n",
       "      <td>New York</td>\n",
       "    </tr>\n",
       "    <tr>\n",
       "      <th>13</th>\n",
       "      <td>New York</td>\n",
       "      <td>New York</td>\n",
       "    </tr>\n",
       "    <tr>\n",
       "      <th>14</th>\n",
       "      <td>Philadelphia</td>\n",
       "      <td>Pennsylvania</td>\n",
       "    </tr>\n",
       "    <tr>\n",
       "      <th>15</th>\n",
       "      <td>District of Columbia</td>\n",
       "      <td>None</td>\n",
       "    </tr>\n",
       "    <tr>\n",
       "      <th>16</th>\n",
       "      <td>Washington</td>\n",
       "      <td>D.C.</td>\n",
       "    </tr>\n",
       "    <tr>\n",
       "      <th>17</th>\n",
       "      <td>Washington</td>\n",
       "      <td>D.C.</td>\n",
       "    </tr>\n",
       "    <tr>\n",
       "      <th>18</th>\n",
       "      <td>Washington</td>\n",
       "      <td>D.C.</td>\n",
       "    </tr>\n",
       "  </tbody>\n",
       "</table>\n",
       "</div>"
      ],
      "text/plain": [
       "                       0             1\n",
       "0           Philadelphia  Pennsylvania\n",
       "1              Baltimore      Maryland\n",
       "2           Philadelphia  Pennsylvania\n",
       "3              Lancaster  Pennsylvania\n",
       "4                   York  Pennsylvania\n",
       "5           Philadelphia  Pennsylvania\n",
       "7           Philadelphia  Pennsylvania\n",
       "8              Princeton    New Jersey\n",
       "9              Annapolis      Maryland\n",
       "10               Trenton    New Jersey\n",
       "11              New York      New York\n",
       "13              New York      New York\n",
       "14          Philadelphia  Pennsylvania\n",
       "15  District of Columbia          None\n",
       "16            Washington          D.C.\n",
       "17            Washington          D.C.\n",
       "18            Washington          D.C."
      ]
     },
     "execution_count": 15,
     "metadata": {},
     "output_type": "execute_result"
    }
   ],
   "source": [
    "columnsplit = df['City'].str.split(\", \", expand=True)\n",
    "columnsplit"
   ]
  },
  {
   "cell_type": "code",
   "execution_count": 16,
   "metadata": {
    "scrolled": false,
    "slideshow": {
     "slide_type": "fragment"
    }
   },
   "outputs": [
    {
     "data": {
      "text/html": [
       "<div>\n",
       "<style scoped>\n",
       "    .dataframe tbody tr th:only-of-type {\n",
       "        vertical-align: middle;\n",
       "    }\n",
       "\n",
       "    .dataframe tbody tr th {\n",
       "        vertical-align: top;\n",
       "    }\n",
       "\n",
       "    .dataframe thead th {\n",
       "        text-align: right;\n",
       "    }\n",
       "</style>\n",
       "<table border=\"1\" class=\"dataframe\">\n",
       "  <thead>\n",
       "    <tr style=\"text-align: right;\">\n",
       "      <th></th>\n",
       "      <th>City</th>\n",
       "      <th>Building</th>\n",
       "      <th>Start date</th>\n",
       "      <th>End date</th>\n",
       "      <th>Duration</th>\n",
       "      <th>Ref</th>\n",
       "      <th>State</th>\n",
       "    </tr>\n",
       "  </thead>\n",
       "  <tbody>\n",
       "    <tr>\n",
       "      <th>0</th>\n",
       "      <td>Philadelphia</td>\n",
       "      <td>Independence Hall</td>\n",
       "      <td>July 4, 1776 (convened May 10, 1775, prior to ...</td>\n",
       "      <td>December 12, 1776</td>\n",
       "      <td>5 months and 8 days</td>\n",
       "      <td>[8]</td>\n",
       "      <td>Pennsylvania</td>\n",
       "    </tr>\n",
       "    <tr>\n",
       "      <th>1</th>\n",
       "      <td>Baltimore</td>\n",
       "      <td>Henry Fite House</td>\n",
       "      <td>December 20, 1776</td>\n",
       "      <td>February 27, 1777</td>\n",
       "      <td>2 months and 7 days</td>\n",
       "      <td>[9]</td>\n",
       "      <td>Maryland</td>\n",
       "    </tr>\n",
       "    <tr>\n",
       "      <th>2</th>\n",
       "      <td>Philadelphia</td>\n",
       "      <td>Independence Hall</td>\n",
       "      <td>March 5, 1777</td>\n",
       "      <td>September 18, 1777</td>\n",
       "      <td>6 months and 13 days</td>\n",
       "      <td>[10]</td>\n",
       "      <td>Pennsylvania</td>\n",
       "    </tr>\n",
       "    <tr>\n",
       "      <th>3</th>\n",
       "      <td>Lancaster</td>\n",
       "      <td>Court House</td>\n",
       "      <td>September 27, 1777</td>\n",
       "      <td>September 27, 1777</td>\n",
       "      <td>1 day</td>\n",
       "      <td>[10]</td>\n",
       "      <td>Pennsylvania</td>\n",
       "    </tr>\n",
       "    <tr>\n",
       "      <th>4</th>\n",
       "      <td>York</td>\n",
       "      <td>Court House (now Colonial Court House)</td>\n",
       "      <td>September 30, 1777</td>\n",
       "      <td>June 27, 1778</td>\n",
       "      <td>8 months and 28 days</td>\n",
       "      <td>[10]</td>\n",
       "      <td>Pennsylvania</td>\n",
       "    </tr>\n",
       "  </tbody>\n",
       "</table>\n",
       "</div>"
      ],
      "text/plain": [
       "           City                                Building  \\\n",
       "0  Philadelphia                       Independence Hall   \n",
       "1     Baltimore                        Henry Fite House   \n",
       "2  Philadelphia                       Independence Hall   \n",
       "3     Lancaster                             Court House   \n",
       "4          York  Court House (now Colonial Court House)   \n",
       "\n",
       "                                          Start date            End date  \\\n",
       "0  July 4, 1776 (convened May 10, 1775, prior to ...   December 12, 1776   \n",
       "1                                  December 20, 1776   February 27, 1777   \n",
       "2                                      March 5, 1777  September 18, 1777   \n",
       "3                                 September 27, 1777  September 27, 1777   \n",
       "4                                 September 30, 1777       June 27, 1778   \n",
       "\n",
       "               Duration   Ref         State  \n",
       "0   5 months and 8 days   [8]  Pennsylvania  \n",
       "1   2 months and 7 days   [9]      Maryland  \n",
       "2  6 months and 13 days  [10]  Pennsylvania  \n",
       "3                 1 day  [10]  Pennsylvania  \n",
       "4  8 months and 28 days  [10]  Pennsylvania  "
      ]
     },
     "execution_count": 16,
     "metadata": {},
     "output_type": "execute_result"
    }
   ],
   "source": [
    "df = df.assign(City=columnsplit[0],\n",
    "               State=columnsplit[1])\n",
    "df.head()"
   ]
  },
  {
   "cell_type": "markdown",
   "metadata": {
    "slideshow": {
     "slide_type": "subslide"
    }
   },
   "source": [
    "#### Drop a column"
   ]
  },
  {
   "cell_type": "code",
   "execution_count": 17,
   "metadata": {},
   "outputs": [
    {
     "data": {
      "text/html": [
       "<div>\n",
       "<style scoped>\n",
       "    .dataframe tbody tr th:only-of-type {\n",
       "        vertical-align: middle;\n",
       "    }\n",
       "\n",
       "    .dataframe tbody tr th {\n",
       "        vertical-align: top;\n",
       "    }\n",
       "\n",
       "    .dataframe thead th {\n",
       "        text-align: right;\n",
       "    }\n",
       "</style>\n",
       "<table border=\"1\" class=\"dataframe\">\n",
       "  <thead>\n",
       "    <tr style=\"text-align: right;\">\n",
       "      <th></th>\n",
       "      <th>City</th>\n",
       "      <th>Building</th>\n",
       "      <th>Start date</th>\n",
       "      <th>End date</th>\n",
       "      <th>Duration</th>\n",
       "      <th>State</th>\n",
       "    </tr>\n",
       "  </thead>\n",
       "  <tbody>\n",
       "    <tr>\n",
       "      <th>0</th>\n",
       "      <td>Philadelphia</td>\n",
       "      <td>Independence Hall</td>\n",
       "      <td>July 4, 1776 (convened May 10, 1775, prior to ...</td>\n",
       "      <td>December 12, 1776</td>\n",
       "      <td>5 months and 8 days</td>\n",
       "      <td>Pennsylvania</td>\n",
       "    </tr>\n",
       "    <tr>\n",
       "      <th>1</th>\n",
       "      <td>Baltimore</td>\n",
       "      <td>Henry Fite House</td>\n",
       "      <td>December 20, 1776</td>\n",
       "      <td>February 27, 1777</td>\n",
       "      <td>2 months and 7 days</td>\n",
       "      <td>Maryland</td>\n",
       "    </tr>\n",
       "    <tr>\n",
       "      <th>2</th>\n",
       "      <td>Philadelphia</td>\n",
       "      <td>Independence Hall</td>\n",
       "      <td>March 5, 1777</td>\n",
       "      <td>September 18, 1777</td>\n",
       "      <td>6 months and 13 days</td>\n",
       "      <td>Pennsylvania</td>\n",
       "    </tr>\n",
       "    <tr>\n",
       "      <th>3</th>\n",
       "      <td>Lancaster</td>\n",
       "      <td>Court House</td>\n",
       "      <td>September 27, 1777</td>\n",
       "      <td>September 27, 1777</td>\n",
       "      <td>1 day</td>\n",
       "      <td>Pennsylvania</td>\n",
       "    </tr>\n",
       "    <tr>\n",
       "      <th>4</th>\n",
       "      <td>York</td>\n",
       "      <td>Court House (now Colonial Court House)</td>\n",
       "      <td>September 30, 1777</td>\n",
       "      <td>June 27, 1778</td>\n",
       "      <td>8 months and 28 days</td>\n",
       "      <td>Pennsylvania</td>\n",
       "    </tr>\n",
       "  </tbody>\n",
       "</table>\n",
       "</div>"
      ],
      "text/plain": [
       "           City                                Building  \\\n",
       "0  Philadelphia                       Independence Hall   \n",
       "1     Baltimore                        Henry Fite House   \n",
       "2  Philadelphia                       Independence Hall   \n",
       "3     Lancaster                             Court House   \n",
       "4          York  Court House (now Colonial Court House)   \n",
       "\n",
       "                                          Start date            End date  \\\n",
       "0  July 4, 1776 (convened May 10, 1775, prior to ...   December 12, 1776   \n",
       "1                                  December 20, 1776   February 27, 1777   \n",
       "2                                      March 5, 1777  September 18, 1777   \n",
       "3                                 September 27, 1777  September 27, 1777   \n",
       "4                                 September 30, 1777       June 27, 1778   \n",
       "\n",
       "               Duration         State  \n",
       "0   5 months and 8 days  Pennsylvania  \n",
       "1   2 months and 7 days      Maryland  \n",
       "2  6 months and 13 days  Pennsylvania  \n",
       "3                 1 day  Pennsylvania  \n",
       "4  8 months and 28 days  Pennsylvania  "
      ]
     },
     "execution_count": 17,
     "metadata": {},
     "output_type": "execute_result"
    }
   ],
   "source": [
    "df = df.drop(['Ref'], axis=1)\n",
    "df.head()"
   ]
  },
  {
   "cell_type": "markdown",
   "metadata": {},
   "source": [
    "#### Reset an index"
   ]
  },
  {
   "cell_type": "code",
   "execution_count": 18,
   "metadata": {},
   "outputs": [
    {
     "data": {
      "text/html": [
       "<div>\n",
       "<style scoped>\n",
       "    .dataframe tbody tr th:only-of-type {\n",
       "        vertical-align: middle;\n",
       "    }\n",
       "\n",
       "    .dataframe tbody tr th {\n",
       "        vertical-align: top;\n",
       "    }\n",
       "\n",
       "    .dataframe thead th {\n",
       "        text-align: right;\n",
       "    }\n",
       "</style>\n",
       "<table border=\"1\" class=\"dataframe\">\n",
       "  <thead>\n",
       "    <tr style=\"text-align: right;\">\n",
       "      <th></th>\n",
       "      <th>City</th>\n",
       "      <th>Building</th>\n",
       "      <th>Start date</th>\n",
       "      <th>End date</th>\n",
       "      <th>Duration</th>\n",
       "      <th>State</th>\n",
       "    </tr>\n",
       "  </thead>\n",
       "  <tbody>\n",
       "    <tr>\n",
       "      <th>0</th>\n",
       "      <td>Philadelphia</td>\n",
       "      <td>Independence Hall</td>\n",
       "      <td>July 4, 1776 (convened May 10, 1775, prior to ...</td>\n",
       "      <td>December 12, 1776</td>\n",
       "      <td>5 months and 8 days</td>\n",
       "      <td>Pennsylvania</td>\n",
       "    </tr>\n",
       "    <tr>\n",
       "      <th>1</th>\n",
       "      <td>Baltimore</td>\n",
       "      <td>Henry Fite House</td>\n",
       "      <td>December 20, 1776</td>\n",
       "      <td>February 27, 1777</td>\n",
       "      <td>2 months and 7 days</td>\n",
       "      <td>Maryland</td>\n",
       "    </tr>\n",
       "    <tr>\n",
       "      <th>2</th>\n",
       "      <td>Philadelphia</td>\n",
       "      <td>Independence Hall</td>\n",
       "      <td>March 5, 1777</td>\n",
       "      <td>September 18, 1777</td>\n",
       "      <td>6 months and 13 days</td>\n",
       "      <td>Pennsylvania</td>\n",
       "    </tr>\n",
       "    <tr>\n",
       "      <th>3</th>\n",
       "      <td>Lancaster</td>\n",
       "      <td>Court House</td>\n",
       "      <td>September 27, 1777</td>\n",
       "      <td>September 27, 1777</td>\n",
       "      <td>1 day</td>\n",
       "      <td>Pennsylvania</td>\n",
       "    </tr>\n",
       "    <tr>\n",
       "      <th>4</th>\n",
       "      <td>York</td>\n",
       "      <td>Court House (now Colonial Court House)</td>\n",
       "      <td>September 30, 1777</td>\n",
       "      <td>June 27, 1778</td>\n",
       "      <td>8 months and 28 days</td>\n",
       "      <td>Pennsylvania</td>\n",
       "    </tr>\n",
       "  </tbody>\n",
       "</table>\n",
       "</div>"
      ],
      "text/plain": [
       "           City                                Building  \\\n",
       "0  Philadelphia                       Independence Hall   \n",
       "1     Baltimore                        Henry Fite House   \n",
       "2  Philadelphia                       Independence Hall   \n",
       "3     Lancaster                             Court House   \n",
       "4          York  Court House (now Colonial Court House)   \n",
       "\n",
       "                                          Start date            End date  \\\n",
       "0  July 4, 1776 (convened May 10, 1775, prior to ...   December 12, 1776   \n",
       "1                                  December 20, 1776   February 27, 1777   \n",
       "2                                      March 5, 1777  September 18, 1777   \n",
       "3                                 September 27, 1777  September 27, 1777   \n",
       "4                                 September 30, 1777       June 27, 1778   \n",
       "\n",
       "               Duration         State  \n",
       "0   5 months and 8 days  Pennsylvania  \n",
       "1   2 months and 7 days      Maryland  \n",
       "2  6 months and 13 days  Pennsylvania  \n",
       "3                 1 day  Pennsylvania  \n",
       "4  8 months and 28 days  Pennsylvania  "
      ]
     },
     "execution_count": 18,
     "metadata": {},
     "output_type": "execute_result"
    }
   ],
   "source": [
    "df = df.reset_index(drop=True)\n",
    "df.head()"
   ]
  },
  {
   "cell_type": "code",
   "execution_count": 19,
   "metadata": {},
   "outputs": [
    {
     "data": {
      "text/html": [
       "<div>\n",
       "<style scoped>\n",
       "    .dataframe tbody tr th:only-of-type {\n",
       "        vertical-align: middle;\n",
       "    }\n",
       "\n",
       "    .dataframe tbody tr th {\n",
       "        vertical-align: top;\n",
       "    }\n",
       "\n",
       "    .dataframe thead th {\n",
       "        text-align: right;\n",
       "    }\n",
       "</style>\n",
       "<table border=\"1\" class=\"dataframe\">\n",
       "  <thead>\n",
       "    <tr style=\"text-align: right;\">\n",
       "      <th></th>\n",
       "      <th>City</th>\n",
       "      <th>Building</th>\n",
       "      <th>Start date</th>\n",
       "      <th>End date</th>\n",
       "      <th>Duration</th>\n",
       "      <th>State</th>\n",
       "    </tr>\n",
       "  </thead>\n",
       "  <tbody>\n",
       "    <tr>\n",
       "      <th>10</th>\n",
       "      <td>New York</td>\n",
       "      <td>City Hall</td>\n",
       "      <td>January 11, 1785</td>\n",
       "      <td>October 6, 1788</td>\n",
       "      <td>3 years, 11 months and 5 days</td>\n",
       "      <td>New York</td>\n",
       "    </tr>\n",
       "    <tr>\n",
       "      <th>11</th>\n",
       "      <td>New York</td>\n",
       "      <td>Federal Hall</td>\n",
       "      <td>March 4, 1789</td>\n",
       "      <td>December 5, 1790</td>\n",
       "      <td>1 year, 9 months and 1 day</td>\n",
       "      <td>New York</td>\n",
       "    </tr>\n",
       "  </tbody>\n",
       "</table>\n",
       "</div>"
      ],
      "text/plain": [
       "        City      Building        Start date          End date  \\\n",
       "10  New York     City Hall  January 11, 1785   October 6, 1788   \n",
       "11  New York  Federal Hall     March 4, 1789  December 5, 1790   \n",
       "\n",
       "                         Duration     State  \n",
       "10  3 years, 11 months and 5 days  New York  \n",
       "11     1 year, 9 months and 1 day  New York  "
      ]
     },
     "execution_count": 19,
     "metadata": {},
     "output_type": "execute_result"
    }
   ],
   "source": [
    "df.loc[df.State==\"New York\"]"
   ]
  },
  {
   "cell_type": "markdown",
   "metadata": {
    "slideshow": {
     "slide_type": "slide"
    }
   },
   "source": [
    "## DataFrames as HTML"
   ]
  },
  {
   "cell_type": "markdown",
   "metadata": {
    "slideshow": {
     "slide_type": "subslide"
    }
   },
   "source": [
    "#### Pandas also had a `to_html` method that we can use to generate HTML tables from DataFrames."
   ]
  },
  {
   "cell_type": "code",
   "execution_count": 11,
   "metadata": {
    "scrolled": true,
    "slideshow": {
     "slide_type": "fragment"
    }
   },
   "outputs": [
    {
     "data": {
      "text/plain": [
       "'<table border=\"1\" class=\"dataframe\">\\n  <thead>\\n    <tr style=\"text-align: right;\">\\n      <th></th>\\n      <th>City</th>\\n      <th>Building</th>\\n      <th>Start Date</th>\\n      <th>End Date</th>\\n      <th>Duration</th>\\n      <th>State</th>\\n    </tr>\\n  </thead>\\n  <tbody>\\n    <tr>\\n      <th>0</th>\\n      <td>Albany</td>\\n      <td>Stadt Huys</td>\\n      <td>June 19, 1754</td>\\n      <td>July 11, 1754</td>\\n      <td>22\\xa0days</td>\\n      <td>New York</td>\\n    </tr>\\n    <tr>\\n      <th>1</th>\\n      <td>New York</td>\\n      <td>City Hall</td>\\n      <td>October 7, 1765</td>\\n      <td>October 25, 1765</td>\\n      <td>23\\xa0days</td>\\n      <td>New York</td>\\n    </tr>\\n    <tr>\\n      <th>2</th>\\n      <td>Philadelphia</td>\\n      <td>Carpenters\\' Hall</td>\\n      <td>September 5, 1774</td>\\n      <td>October 26, 1774</td>\\n      <td>1\\xa0month and 21\\xa0days</td>\\n      <td>Pennsylvania</td>\\n    </tr>\\n    <tr>\\n      <th>3</th>\\n      <td>Philadelphia</td>\\n      <td>Independence Hall</td>\\n      <td>May 10, 1775</td>\\n      <td>December 12, 1776</td>\\n      <td>1\\xa0year, 7\\xa0months and 2\\xa0days</td>\\n      <td>Pennsylvania</td>\\n    </tr>\\n    <tr>\\n      <th>4</th>\\n      <td>Baltimore</td>\\n      <td>Henry Fite House</td>\\n      <td>December 20, 1776</td>\\n      <td>February 27, 1777</td>\\n      <td>2\\xa0months and 7\\xa0days</td>\\n      <td>Maryland</td>\\n    </tr>\\n    <tr>\\n      <th>5</th>\\n      <td>Philadelphia</td>\\n      <td>Independence Hall</td>\\n      <td>March 5, 1777</td>\\n      <td>September 18, 1777</td>\\n      <td>6\\xa0months and 13\\xa0days</td>\\n      <td>Pennsylvania</td>\\n    </tr>\\n    <tr>\\n      <th>6</th>\\n      <td>Lancaster</td>\\n      <td>Court House</td>\\n      <td>September 27, 1777</td>\\n      <td>September 27, 1777</td>\\n      <td>1\\xa0day</td>\\n      <td>Pennsylvania</td>\\n    </tr>\\n    <tr>\\n      <th>7</th>\\n      <td>York</td>\\n      <td>Court House</td>\\n      <td>September 30, 1777</td>\\n      <td>June 27, 1778</td>\\n      <td>8\\xa0months and 28\\xa0days</td>\\n      <td>Pennsylvania</td>\\n    </tr>\\n    <tr>\\n      <th>8</th>\\n      <td>Philadelphia</td>\\n      <td>College Hall</td>\\n      <td>July 2, 1778</td>\\n      <td>March 1, 1781</td>\\n      <td>2\\xa0years, 7\\xa0months and 27\\xa0days</td>\\n      <td>Pennsylvania</td>\\n    </tr>\\n    <tr>\\n      <th>9</th>\\n      <td>Philadelphia</td>\\n      <td>Independence Hall</td>\\n      <td>March 2, 1781</td>\\n      <td>June 21, 1783</td>\\n      <td>2\\xa0years, 3\\xa0months and 19\\xa0days</td>\\n      <td>Pennsylvania</td>\\n    </tr>\\n    <tr>\\n      <th>10</th>\\n      <td>Princeton</td>\\n      <td>Nassau Hall</td>\\n      <td>June 30, 1783</td>\\n      <td>November 4, 1783</td>\\n      <td>4\\xa0months and 5\\xa0days</td>\\n      <td>New Jersey</td>\\n    </tr>\\n    <tr>\\n      <th>11</th>\\n      <td>Annapolis</td>\\n      <td>Maryland State House</td>\\n      <td>November 26, 1783</td>\\n      <td>August 19, 1784</td>\\n      <td>8\\xa0months and 24\\xa0days</td>\\n      <td>Maryland</td>\\n    </tr>\\n    <tr>\\n      <th>12</th>\\n      <td>Trenton</td>\\n      <td>French Arms Tavern</td>\\n      <td>November 1, 1784</td>\\n      <td>December 24, 1784</td>\\n      <td>1\\xa0month and 23\\xa0days</td>\\n      <td>New Jersey</td>\\n    </tr>\\n    <tr>\\n      <th>13</th>\\n      <td>New York</td>\\n      <td>City Hall</td>\\n      <td>January 11, 1785</td>\\n      <td>October 6, 1788</td>\\n      <td>3\\xa0years, 11\\xa0months and 5\\xa0days</td>\\n      <td>New York</td>\\n    </tr>\\n    <tr>\\n      <th>14</th>\\n      <td>New York</td>\\n      <td>Federal Hall</td>\\n      <td>March 4, 1789</td>\\n      <td>December 5, 1790</td>\\n      <td>1\\xa0year, 9\\xa0months and 1\\xa0day</td>\\n      <td>New York</td>\\n    </tr>\\n    <tr>\\n      <th>15</th>\\n      <td>Philadelphia</td>\\n      <td>Congress Hall</td>\\n      <td>December 6, 1790</td>\\n      <td>May 14, 1800</td>\\n      <td>9\\xa0years, 5\\xa0months and 8\\xa0days</td>\\n      <td>Pennsylvania</td>\\n    </tr>\\n    <tr>\\n      <th>16</th>\\n      <td>District of Columbia</td>\\n      <td>United States Capitol</td>\\n      <td>November 17, 1800</td>\\n      <td>August 24, 1814</td>\\n      <td>13\\xa0years, 9\\xa0months and 7\\xa0days</td>\\n      <td>None</td>\\n    </tr>\\n    <tr>\\n      <th>17</th>\\n      <td>Washington</td>\\n      <td>Blodgett\\'s Hotel</td>\\n      <td>September 19, 1814</td>\\n      <td>December 7, 1815</td>\\n      <td>1\\xa0year, 2\\xa0months and 18\\xa0days</td>\\n      <td>D.C.</td>\\n    </tr>\\n    <tr>\\n      <th>18</th>\\n      <td>Washington</td>\\n      <td>Old Brick Capitol</td>\\n      <td>December 4, 1815</td>\\n      <td>March 3, 1819</td>\\n      <td>3\\xa0years, 2\\xa0months and 27\\xa0days</td>\\n      <td>D.C.</td>\\n    </tr>\\n    <tr>\\n      <th>19</th>\\n      <td>Washington</td>\\n      <td>United States Capitol</td>\\n      <td>March 4, 1819</td>\\n      <td>present</td>\\n      <td>201\\xa0years, 5\\xa0months and 14\\xa0days</td>\\n      <td>D.C.</td>\\n    </tr>\\n  </tbody>\\n</table>'"
      ]
     },
     "execution_count": 11,
     "metadata": {},
     "output_type": "execute_result"
    }
   ],
   "source": [
    "html_table = df.to_html()\n",
    "html_table"
   ]
  },
  {
   "cell_type": "markdown",
   "metadata": {
    "slideshow": {
     "slide_type": "subslide"
    }
   },
   "source": [
    "#### You may have to strip unwanted newlines to clean up the table."
   ]
  },
  {
   "cell_type": "code",
   "execution_count": 12,
   "metadata": {
    "scrolled": true,
    "slideshow": {
     "slide_type": "fragment"
    }
   },
   "outputs": [
    {
     "data": {
      "text/plain": [
       "'<table border=\"1\" class=\"dataframe\">  <thead>    <tr style=\"text-align: right;\">      <th></th>      <th>City</th>      <th>Building</th>      <th>Start Date</th>      <th>End Date</th>      <th>Duration</th>      <th>State</th>    </tr>  </thead>  <tbody>    <tr>      <th>0</th>      <td>Albany</td>      <td>Stadt Huys</td>      <td>June 19, 1754</td>      <td>July 11, 1754</td>      <td>22\\xa0days</td>      <td>New York</td>    </tr>    <tr>      <th>1</th>      <td>New York</td>      <td>City Hall</td>      <td>October 7, 1765</td>      <td>October 25, 1765</td>      <td>23\\xa0days</td>      <td>New York</td>    </tr>    <tr>      <th>2</th>      <td>Philadelphia</td>      <td>Carpenters\\' Hall</td>      <td>September 5, 1774</td>      <td>October 26, 1774</td>      <td>1\\xa0month and 21\\xa0days</td>      <td>Pennsylvania</td>    </tr>    <tr>      <th>3</th>      <td>Philadelphia</td>      <td>Independence Hall</td>      <td>May 10, 1775</td>      <td>December 12, 1776</td>      <td>1\\xa0year, 7\\xa0months and 2\\xa0days</td>      <td>Pennsylvania</td>    </tr>    <tr>      <th>4</th>      <td>Baltimore</td>      <td>Henry Fite House</td>      <td>December 20, 1776</td>      <td>February 27, 1777</td>      <td>2\\xa0months and 7\\xa0days</td>      <td>Maryland</td>    </tr>    <tr>      <th>5</th>      <td>Philadelphia</td>      <td>Independence Hall</td>      <td>March 5, 1777</td>      <td>September 18, 1777</td>      <td>6\\xa0months and 13\\xa0days</td>      <td>Pennsylvania</td>    </tr>    <tr>      <th>6</th>      <td>Lancaster</td>      <td>Court House</td>      <td>September 27, 1777</td>      <td>September 27, 1777</td>      <td>1\\xa0day</td>      <td>Pennsylvania</td>    </tr>    <tr>      <th>7</th>      <td>York</td>      <td>Court House</td>      <td>September 30, 1777</td>      <td>June 27, 1778</td>      <td>8\\xa0months and 28\\xa0days</td>      <td>Pennsylvania</td>    </tr>    <tr>      <th>8</th>      <td>Philadelphia</td>      <td>College Hall</td>      <td>July 2, 1778</td>      <td>March 1, 1781</td>      <td>2\\xa0years, 7\\xa0months and 27\\xa0days</td>      <td>Pennsylvania</td>    </tr>    <tr>      <th>9</th>      <td>Philadelphia</td>      <td>Independence Hall</td>      <td>March 2, 1781</td>      <td>June 21, 1783</td>      <td>2\\xa0years, 3\\xa0months and 19\\xa0days</td>      <td>Pennsylvania</td>    </tr>    <tr>      <th>10</th>      <td>Princeton</td>      <td>Nassau Hall</td>      <td>June 30, 1783</td>      <td>November 4, 1783</td>      <td>4\\xa0months and 5\\xa0days</td>      <td>New Jersey</td>    </tr>    <tr>      <th>11</th>      <td>Annapolis</td>      <td>Maryland State House</td>      <td>November 26, 1783</td>      <td>August 19, 1784</td>      <td>8\\xa0months and 24\\xa0days</td>      <td>Maryland</td>    </tr>    <tr>      <th>12</th>      <td>Trenton</td>      <td>French Arms Tavern</td>      <td>November 1, 1784</td>      <td>December 24, 1784</td>      <td>1\\xa0month and 23\\xa0days</td>      <td>New Jersey</td>    </tr>    <tr>      <th>13</th>      <td>New York</td>      <td>City Hall</td>      <td>January 11, 1785</td>      <td>October 6, 1788</td>      <td>3\\xa0years, 11\\xa0months and 5\\xa0days</td>      <td>New York</td>    </tr>    <tr>      <th>14</th>      <td>New York</td>      <td>Federal Hall</td>      <td>March 4, 1789</td>      <td>December 5, 1790</td>      <td>1\\xa0year, 9\\xa0months and 1\\xa0day</td>      <td>New York</td>    </tr>    <tr>      <th>15</th>      <td>Philadelphia</td>      <td>Congress Hall</td>      <td>December 6, 1790</td>      <td>May 14, 1800</td>      <td>9\\xa0years, 5\\xa0months and 8\\xa0days</td>      <td>Pennsylvania</td>    </tr>    <tr>      <th>16</th>      <td>District of Columbia</td>      <td>United States Capitol</td>      <td>November 17, 1800</td>      <td>August 24, 1814</td>      <td>13\\xa0years, 9\\xa0months and 7\\xa0days</td>      <td>None</td>    </tr>    <tr>      <th>17</th>      <td>Washington</td>      <td>Blodgett\\'s Hotel</td>      <td>September 19, 1814</td>      <td>December 7, 1815</td>      <td>1\\xa0year, 2\\xa0months and 18\\xa0days</td>      <td>D.C.</td>    </tr>    <tr>      <th>18</th>      <td>Washington</td>      <td>Old Brick Capitol</td>      <td>December 4, 1815</td>      <td>March 3, 1819</td>      <td>3\\xa0years, 2\\xa0months and 27\\xa0days</td>      <td>D.C.</td>    </tr>    <tr>      <th>19</th>      <td>Washington</td>      <td>United States Capitol</td>      <td>March 4, 1819</td>      <td>present</td>      <td>201\\xa0years, 5\\xa0months and 14\\xa0days</td>      <td>D.C.</td>    </tr>  </tbody></table>'"
      ]
     },
     "execution_count": 12,
     "metadata": {},
     "output_type": "execute_result"
    }
   ],
   "source": [
    "html_table.replace('\\n', '')"
   ]
  },
  {
   "cell_type": "markdown",
   "metadata": {
    "slideshow": {
     "slide_type": "subslide"
    }
   },
   "source": [
    "You can also save the table directly to a file."
   ]
  },
  {
   "cell_type": "code",
   "execution_count": 13,
   "metadata": {
    "slideshow": {
     "slide_type": "fragment"
    }
   },
   "outputs": [],
   "source": [
    "df.to_html('table.html')"
   ]
  },
  {
   "cell_type": "code",
   "execution_count": 20,
   "metadata": {
    "slideshow": {
     "slide_type": "fragment"
    }
   },
   "outputs": [],
   "source": [
    "# OSX Users can run this to open the file in a browser, \n",
    "# or you can manually find the file and open it in the browser\n",
    "!open table.html"
   ]
  },
  {
   "cell_type": "code",
   "execution_count": null,
   "metadata": {},
   "outputs": [],
   "source": []
  }
 ],
 "metadata": {
  "hide_input": false,
  "kernelspec": {
   "display_name": "Python 3",
   "language": "python",
   "name": "python3"
  },
  "language_info": {
   "codemirror_mode": {
    "name": "ipython",
    "version": 3
   },
   "file_extension": ".py",
   "mimetype": "text/x-python",
   "name": "python",
   "nbconvert_exporter": "python",
   "pygments_lexer": "ipython3",
   "version": "3.8.5"
  },
  "toc": {
   "base_numbering": 1,
   "nav_menu": {},
   "number_sections": false,
   "sideBar": true,
   "skip_h1_title": false,
   "title_cell": "Table of Contents",
   "title_sidebar": "Contents",
   "toc_cell": false,
   "toc_position": {},
   "toc_section_display": true,
   "toc_window_display": false
  },
  "varInspector": {
   "cols": {
    "lenName": 16,
    "lenType": 16,
    "lenVar": 40
   },
   "kernels_config": {
    "python": {
     "delete_cmd_postfix": "",
     "delete_cmd_prefix": "del ",
     "library": "var_list.py",
     "varRefreshCmd": "print(var_dic_list())"
    },
    "r": {
     "delete_cmd_postfix": ") ",
     "delete_cmd_prefix": "rm(",
     "library": "var_list.r",
     "varRefreshCmd": "cat(var_dic_list()) "
    }
   },
   "types_to_exclude": [
    "module",
    "function",
    "builtin_function_or_method",
    "instance",
    "_Feature"
   ],
   "window_display": false
  }
 },
 "nbformat": 4,
 "nbformat_minor": 2
}
