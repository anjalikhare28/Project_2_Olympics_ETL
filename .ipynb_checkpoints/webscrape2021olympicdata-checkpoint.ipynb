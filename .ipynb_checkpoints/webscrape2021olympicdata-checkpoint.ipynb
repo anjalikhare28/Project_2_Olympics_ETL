{
 "cells": [
  {
   "cell_type": "markdown",
   "metadata": {},
   "source": [
    "# Web scrapping 2021 olympic data"
   ]
  },
  {
   "cell_type": "code",
   "execution_count": 23,
   "metadata": {
    "slideshow": {
     "slide_type": "slide"
    }
   },
   "outputs": [],
   "source": [
    "import pandas as pd"
   ]
  },
  {
   "cell_type": "markdown",
   "metadata": {
    "slideshow": {
     "slide_type": "subslide"
    }
   },
   "source": [
    "We can use the `read_html` function in Pandas to automatically scrape any tabular data from a page."
   ]
  },
  {
   "cell_type": "code",
   "execution_count": 24,
   "metadata": {
    "slideshow": {
     "slide_type": "fragment"
    }
   },
   "outputs": [],
   "source": [
    "url = 'https://olympics.com/tokyo-2020/olympic-games/en/results/all-sports/medal-standings.htm'"
   ]
  },
  {
   "cell_type": "code",
   "execution_count": 25,
   "metadata": {
    "slideshow": {
     "slide_type": "fragment"
    }
   },
   "outputs": [
    {
     "data": {
      "text/plain": [
       "[    Rank                    Team/NOC  Unnamed: 2  Unnamed: 3  Unnamed: 4  \\\n",
       " 0      1  People's Republic of China          19          10          11   \n",
       " 1      2                       Japan          17           4           7   \n",
       " 2      3    United States of America          16          17          11   \n",
       " 3      4                         ROC          10          14          10   \n",
       " 4      5                   Australia          10           3          12   \n",
       " ..   ...                         ...         ...         ...         ...   \n",
       " 65    63                     Finland           0           0           1   \n",
       " 66    63                      Israel           0           0           1   \n",
       " 67    63                      Kuwait           0           0           1   \n",
       " 68    63                    Portugal           0           0           1   \n",
       " 69    63                  San Marino           0           0           1   \n",
       " \n",
       "     Total  RankbyTotal NOCCode  \n",
       " 0      40            2     CHN  \n",
       " 1      28            4     JPN  \n",
       " 2      44            1     USA  \n",
       " 3      34            3     ROC  \n",
       " 4      25            5     AUS  \n",
       " ..    ...          ...     ...  \n",
       " 65      1           47     FIN  \n",
       " 66      1           47     ISR  \n",
       " 67      1           47     KUW  \n",
       " 68      1           47     POR  \n",
       " 69      1           47     SMR  \n",
       " \n",
       " [70 rows x 8 columns],\n",
       "                 Team/NOC  Unnamed: 1  Unnamed: 2  Unnamed: 3  Total NOCCode\n",
       " 0                  China           6           4           5     15     CHN\n",
       " 1                  Japan           8           3           1     12     JPN\n",
       " 2          United States           7           3           3     13     USA\n",
       " 3                    ROC           5           4           6     15     ROC\n",
       " 4              Australia           2           2           6     10     AUS\n",
       " 5          Great Britain           5           6           3     14     GBR\n",
       " 6      Republic of Korea           2           1           6      9     KOR\n",
       " 7            Netherlands           2           4           0      6     NED\n",
       " 8                 France           2           0           2      4     FRA\n",
       " 9                Germany           0           3           4      7     GER\n",
       " 10           New Zealand           1           1           2      4     NZL\n",
       " 11        Czech Republic           3           2           1      6     CZE\n",
       " 12               Croatia           2           1           2      5     CRO\n",
       " 13                 Italy           1           5           5     11     ITA\n",
       " 14               Hungary           2           2           2      6     HUN\n",
       " 15              Slovenia           2           0           1      3     SLO\n",
       " 16           Switzerland           0           1           2      3     SUI\n",
       " 17                Brazil           1           1           2      4     BRA\n",
       " 18               Georgia           1           3           0      4     GEO\n",
       " 19               Romania           0           2           0      2     ROU\n",
       " 20        Chinese Taipei           0           2           0      2     TPE\n",
       " 21      Hong Kong, China           1           0           0      1     HKG\n",
       " 22               Austria           0           0           1      1     AUT\n",
       " 23                Serbia           0           1           1      2     SRB\n",
       " 24                Norway           1           1           0      2     NOR\n",
       " 25              Slovakia           0           1           0      1     SVK\n",
       " 26               Tunisia           1           1           0      2     TUN\n",
       " 27               Ireland           1           0           0      1     IRL\n",
       " 28            Uzbekistan           1           0           1      2     UZB\n",
       " 29               Ecuador           1           0           0      1     ECU\n",
       " 30              Ethiopia           1           0           0      1     ETH\n",
       " 31                  Fiji           1           0           0      1     FIJ\n",
       " 32                Greece           1           0           0      1     GRE\n",
       " 33  Islamic Rep. of Iran           1           0           0      1     IRI\n",
       " 34                Latvia           1           0           0      1     LAT\n",
       " 35              Colombia           0           1           1      2     COL\n",
       " 36                 Spain           0           0           1      1     ESP\n",
       " 37             Indonesia           0           1           1      2     INA\n",
       " 38              Mongolia           0           1           1      2     MGL\n",
       " 39               Belgium           0           1           1      2     BEL\n",
       " 40                  Cuba           0           0           1      1     CUB\n",
       " 41               Denmark           0           1           1      2     DEN\n",
       " 42                Uganda           0           1           1      2     UGA\n",
       " 43                Jordan           0           1           0      1     JOR\n",
       " 44       North Macedonia           0           1           0      1     MKD\n",
       " 45             Venezuela           0           1           0      1     VEN\n",
       " 46               Ukraine           0           0           2      2     UKR\n",
       " 47            Kazakhstan           0           0           2      2     KAZ\n",
       " 48                 Egypt           0           0           1      1     EGY\n",
       " 49                Turkey           0           0           1      1     TUR\n",
       " 50             Argentina           0           0           1      1     ARG\n",
       " 51               Finland           0           0           1      1     FIN\n",
       " 52                Kuwait           0           0           1      1     KUW\n",
       " 53              Portugal           0           0           1      1     POR,\n",
       "              Team/NOC  Unnamed: 1  Unnamed: 2  Unnamed: 3  Total NOCCode\n",
       " 0               China          10           4           6     20     CHN\n",
       " 1               Japan           8           1           5     14     JPN\n",
       " 2       United States           9          11           8     28     USA\n",
       " 3                 ROC           5           9           3     17     ROC\n",
       " 4           Australia           8           1           6     15     AUS\n",
       " 5       Great Britain           1           3           4      8     GBR\n",
       " 6   Republic of Korea           2           3           0      5     KOR\n",
       " 7         Netherlands           1           2           5      8     NED\n",
       " 8              France           1           5           3      9     FRA\n",
       " 9             Germany           1           0           5      6     GER\n",
       " 10             Canada           3           4           5     12     CAN\n",
       " 11        New Zealand           2           2           0      4     NZL\n",
       " 12            Croatia           1           0           0      1     CRO\n",
       " 13              Italy           1           2           7     10     ITA\n",
       " 14           Slovenia           0           1           0      1     SLO\n",
       " 15             Kosovo           2           0           0      2     KOS\n",
       " 16        Switzerland           1           2           2      5     SUI\n",
       " 17             Brazil           0           2           1      3     BRA\n",
       " 18            Romania           1           1           0      2     ROU\n",
       " 19     Chinese Taipei           1           0           2      3     TPE\n",
       " 20   Hong Kong, China           0           2           0      2     HKG\n",
       " 21       South Africa           1           2           0      3     RSA\n",
       " 22            Austria           1           1           1      3     AUT\n",
       " 23             Serbia           1           0           1      2     SRB\n",
       " 24           Slovakia           1           0           0      1     SVK\n",
       " 25            Estonia           1           0           1      2     EST\n",
       " 26            Ireland           0           0           1      1     IRL\n",
       " 27            Bermuda           1           0           0      1     BER\n",
       " 28        Philippines           1           0           0      1     PHI\n",
       " 29           Thailand           1           0           0      1     THA\n",
       " 30           Colombia           0           1           0      1     COL\n",
       " 31              Spain           0           2           0      2     ESP\n",
       " 32          Indonesia           0           0           1      1     INA\n",
       " 33           Mongolia           0           0           1      1     MGL\n",
       " 34               Cuba           0           1           0      1     CUB\n",
       " 35           Bulgaria           0           1           0      1     BUL\n",
       " 36              India           0           1           0      1     IND\n",
       " 37             Poland           0           1           0      1     POL\n",
       " 38       Turkmenistan           0           1           0      1     TKM\n",
       " 39            Ukraine           0           0           1      1     UKR\n",
       " 40         Kazakhstan           0           0           1      1     KAZ\n",
       " 41              Egypt           0           0           1      1     EGY\n",
       " 42             Mexico           0           0           1      1     MEX\n",
       " 43             Turkey           0           0           1      1     TUR\n",
       " 44         Azerbaijan           0           0           1      1     AZE\n",
       " 45      Côte d'Ivoire           0           0           1      1     CIV\n",
       " 46             Israel           0           0           1      1     ISR\n",
       " 47         San Marino           0           0           1      1     SMR,\n",
       "              Team/NOC  Unnamed: 1  Unnamed: 2  Unnamed: 3  Total NOCCode\n",
       " 0               China           3           2           0      5     CHN\n",
       " 1               Japan           1           0           1      2     JPN\n",
       " 2       United States           0           2           0      2     USA\n",
       " 3                 ROC           0           1           1      2     ROC\n",
       " 4       Great Britain           1           0           0      1     GBR\n",
       " 5   Republic of Korea           1           0           0      1     KOR\n",
       " 6         Netherlands           0           1           0      1     NED\n",
       " 7              France           0           0           1      1     FRA\n",
       " 8      Chinese Taipei           0           0           1      1     TPE\n",
       " 9             Ukraine           0           0           1      1     UKR\n",
       " 10             Mexico           0           0           1      1     MEX,\n",
       "         Team/NOC  Unnamed: 1  Unnamed: 2  Unnamed: 3  Total NOCCode\n",
       " 0  United States           0           1           0      1     USA\n",
       " 1  Great Britain           0           0           2      2     GBR\n",
       " 2        Germany           2           1           0      3     GER]"
      ]
     },
     "execution_count": 25,
     "metadata": {},
     "output_type": "execute_result"
    }
   ],
   "source": [
    "tables = pd.read_html(url, flavor='html5lib')\n",
    "tables"
   ]
  },
  {
   "cell_type": "code",
   "execution_count": 26,
   "metadata": {},
   "outputs": [
    {
     "data": {
      "text/plain": [
       "5"
      ]
     },
     "execution_count": 26,
     "metadata": {},
     "output_type": "execute_result"
    }
   ],
   "source": [
    "len(tables)"
   ]
  },
  {
   "cell_type": "markdown",
   "metadata": {
    "slideshow": {
     "slide_type": "subslide"
    }
   },
   "source": [
    "#### What we get in return is a list of dataframes for any tabular data that Pandas found."
   ]
  },
  {
   "cell_type": "code",
   "execution_count": 27,
   "metadata": {
    "slideshow": {
     "slide_type": "fragment"
    }
   },
   "outputs": [
    {
     "data": {
      "text/plain": [
       "list"
      ]
     },
     "execution_count": 27,
     "metadata": {},
     "output_type": "execute_result"
    }
   ],
   "source": [
    "type(tables)"
   ]
  },
  {
   "cell_type": "markdown",
   "metadata": {
    "slideshow": {
     "slide_type": "subslide"
    }
   },
   "source": [
    "#### We can slice off any of those dataframes that we want using normal indexing."
   ]
  },
  {
   "cell_type": "code",
   "execution_count": 28,
   "metadata": {
    "slideshow": {
     "slide_type": "fragment"
    }
   },
   "outputs": [
    {
     "data": {
      "text/html": [
       "<div>\n",
       "<style scoped>\n",
       "    .dataframe tbody tr th:only-of-type {\n",
       "        vertical-align: middle;\n",
       "    }\n",
       "\n",
       "    .dataframe tbody tr th {\n",
       "        vertical-align: top;\n",
       "    }\n",
       "\n",
       "    .dataframe thead th {\n",
       "        text-align: right;\n",
       "    }\n",
       "</style>\n",
       "<table border=\"1\" class=\"dataframe\">\n",
       "  <thead>\n",
       "    <tr style=\"text-align: right;\">\n",
       "      <th></th>\n",
       "      <th>Rank</th>\n",
       "      <th>Team/NOC</th>\n",
       "      <th>Unnamed: 2</th>\n",
       "      <th>Unnamed: 3</th>\n",
       "      <th>Unnamed: 4</th>\n",
       "      <th>Total</th>\n",
       "      <th>RankbyTotal</th>\n",
       "      <th>NOCCode</th>\n",
       "    </tr>\n",
       "  </thead>\n",
       "  <tbody>\n",
       "    <tr>\n",
       "      <th>0</th>\n",
       "      <td>1</td>\n",
       "      <td>People's Republic of China</td>\n",
       "      <td>19</td>\n",
       "      <td>10</td>\n",
       "      <td>11</td>\n",
       "      <td>40</td>\n",
       "      <td>2</td>\n",
       "      <td>CHN</td>\n",
       "    </tr>\n",
       "    <tr>\n",
       "      <th>1</th>\n",
       "      <td>2</td>\n",
       "      <td>Japan</td>\n",
       "      <td>17</td>\n",
       "      <td>4</td>\n",
       "      <td>7</td>\n",
       "      <td>28</td>\n",
       "      <td>4</td>\n",
       "      <td>JPN</td>\n",
       "    </tr>\n",
       "    <tr>\n",
       "      <th>2</th>\n",
       "      <td>3</td>\n",
       "      <td>United States of America</td>\n",
       "      <td>16</td>\n",
       "      <td>17</td>\n",
       "      <td>11</td>\n",
       "      <td>44</td>\n",
       "      <td>1</td>\n",
       "      <td>USA</td>\n",
       "    </tr>\n",
       "    <tr>\n",
       "      <th>3</th>\n",
       "      <td>4</td>\n",
       "      <td>ROC</td>\n",
       "      <td>10</td>\n",
       "      <td>14</td>\n",
       "      <td>10</td>\n",
       "      <td>34</td>\n",
       "      <td>3</td>\n",
       "      <td>ROC</td>\n",
       "    </tr>\n",
       "    <tr>\n",
       "      <th>4</th>\n",
       "      <td>5</td>\n",
       "      <td>Australia</td>\n",
       "      <td>10</td>\n",
       "      <td>3</td>\n",
       "      <td>12</td>\n",
       "      <td>25</td>\n",
       "      <td>5</td>\n",
       "      <td>AUS</td>\n",
       "    </tr>\n",
       "  </tbody>\n",
       "</table>\n",
       "</div>"
      ],
      "text/plain": [
       "   Rank                    Team/NOC  Unnamed: 2  Unnamed: 3  Unnamed: 4  \\\n",
       "0     1  People's Republic of China          19          10          11   \n",
       "1     2                       Japan          17           4           7   \n",
       "2     3    United States of America          16          17          11   \n",
       "3     4                         ROC          10          14          10   \n",
       "4     5                   Australia          10           3          12   \n",
       "\n",
       "   Total  RankbyTotal NOCCode  \n",
       "0     40            2     CHN  \n",
       "1     28            4     JPN  \n",
       "2     44            1     USA  \n",
       "3     34            3     ROC  \n",
       "4     25            5     AUS  "
      ]
     },
     "execution_count": 28,
     "metadata": {},
     "output_type": "execute_result"
    }
   ],
   "source": [
    "df = tables[0]\n",
    "df.head()"
   ]
  },
  {
   "cell_type": "code",
   "execution_count": 29,
   "metadata": {},
   "outputs": [
    {
     "data": {
      "text/html": [
       "<div>\n",
       "<style scoped>\n",
       "    .dataframe tbody tr th:only-of-type {\n",
       "        vertical-align: middle;\n",
       "    }\n",
       "\n",
       "    .dataframe tbody tr th {\n",
       "        vertical-align: top;\n",
       "    }\n",
       "\n",
       "    .dataframe thead th {\n",
       "        text-align: right;\n",
       "    }\n",
       "</style>\n",
       "<table border=\"1\" class=\"dataframe\">\n",
       "  <thead>\n",
       "    <tr style=\"text-align: right;\">\n",
       "      <th></th>\n",
       "      <th>Rank</th>\n",
       "      <th>Team/NOC</th>\n",
       "      <th>GOLD</th>\n",
       "      <th>SILVER</th>\n",
       "      <th>BRONZE</th>\n",
       "      <th>Total</th>\n",
       "      <th>RankbyTotal</th>\n",
       "      <th>NOCCode</th>\n",
       "    </tr>\n",
       "  </thead>\n",
       "  <tbody>\n",
       "    <tr>\n",
       "      <th>0</th>\n",
       "      <td>1</td>\n",
       "      <td>People's Republic of China</td>\n",
       "      <td>19</td>\n",
       "      <td>10</td>\n",
       "      <td>11</td>\n",
       "      <td>40</td>\n",
       "      <td>2</td>\n",
       "      <td>CHN</td>\n",
       "    </tr>\n",
       "    <tr>\n",
       "      <th>1</th>\n",
       "      <td>2</td>\n",
       "      <td>Japan</td>\n",
       "      <td>17</td>\n",
       "      <td>4</td>\n",
       "      <td>7</td>\n",
       "      <td>28</td>\n",
       "      <td>4</td>\n",
       "      <td>JPN</td>\n",
       "    </tr>\n",
       "    <tr>\n",
       "      <th>2</th>\n",
       "      <td>3</td>\n",
       "      <td>United States of America</td>\n",
       "      <td>16</td>\n",
       "      <td>17</td>\n",
       "      <td>11</td>\n",
       "      <td>44</td>\n",
       "      <td>1</td>\n",
       "      <td>USA</td>\n",
       "    </tr>\n",
       "    <tr>\n",
       "      <th>3</th>\n",
       "      <td>4</td>\n",
       "      <td>ROC</td>\n",
       "      <td>10</td>\n",
       "      <td>14</td>\n",
       "      <td>10</td>\n",
       "      <td>34</td>\n",
       "      <td>3</td>\n",
       "      <td>ROC</td>\n",
       "    </tr>\n",
       "    <tr>\n",
       "      <th>4</th>\n",
       "      <td>5</td>\n",
       "      <td>Australia</td>\n",
       "      <td>10</td>\n",
       "      <td>3</td>\n",
       "      <td>12</td>\n",
       "      <td>25</td>\n",
       "      <td>5</td>\n",
       "      <td>AUS</td>\n",
       "    </tr>\n",
       "  </tbody>\n",
       "</table>\n",
       "</div>"
      ],
      "text/plain": [
       "   Rank                    Team/NOC  GOLD  SILVER  BRONZE  Total  RankbyTotal  \\\n",
       "0     1  People's Republic of China    19      10      11     40            2   \n",
       "1     2                       Japan    17       4       7     28            4   \n",
       "2     3    United States of America    16      17      11     44            1   \n",
       "3     4                         ROC    10      14      10     34            3   \n",
       "4     5                   Australia    10       3      12     25            5   \n",
       "\n",
       "  NOCCode  \n",
       "0     CHN  \n",
       "1     JPN  \n",
       "2     USA  \n",
       "3     ROC  \n",
       "4     AUS  "
      ]
     },
     "execution_count": 29,
     "metadata": {},
     "output_type": "execute_result"
    }
   ],
   "source": [
    "df.rename(columns = {\"Unnamed: 2\":\"GOLD\",\"Unnamed: 3\":\"SILVER\", \"Unnamed: 4\":\"BRONZE\"}, inplace = True)             \n",
    "df.head()                   "
   ]
  },
  {
   "cell_type": "markdown",
   "metadata": {
    "slideshow": {
     "slide_type": "slide"
    }
   },
   "source": [
    "## DataFrames as HTML"
   ]
  }
 ],
 "metadata": {
  "hide_input": false,
  "kernelspec": {
   "display_name": "Python 3",
   "language": "python",
   "name": "python3"
  },
  "language_info": {
   "codemirror_mode": {
    "name": "ipython",
    "version": 3
   },
   "file_extension": ".py",
   "mimetype": "text/x-python",
   "name": "python",
   "nbconvert_exporter": "python",
   "pygments_lexer": "ipython3",
   "version": "3.8.5"
  },
  "toc": {
   "base_numbering": 1,
   "nav_menu": {},
   "number_sections": false,
   "sideBar": true,
   "skip_h1_title": false,
   "title_cell": "Table of Contents",
   "title_sidebar": "Contents",
   "toc_cell": false,
   "toc_position": {},
   "toc_section_display": true,
   "toc_window_display": false
  },
  "varInspector": {
   "cols": {
    "lenName": 16,
    "lenType": 16,
    "lenVar": 40
   },
   "kernels_config": {
    "python": {
     "delete_cmd_postfix": "",
     "delete_cmd_prefix": "del ",
     "library": "var_list.py",
     "varRefreshCmd": "print(var_dic_list())"
    },
    "r": {
     "delete_cmd_postfix": ") ",
     "delete_cmd_prefix": "rm(",
     "library": "var_list.r",
     "varRefreshCmd": "cat(var_dic_list()) "
    }
   },
   "types_to_exclude": [
    "module",
    "function",
    "builtin_function_or_method",
    "instance",
    "_Feature"
   ],
   "window_display": false
  }
 },
 "nbformat": 4,
 "nbformat_minor": 2
}
